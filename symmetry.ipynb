{
 "cells": [
  {
   "cell_type": "markdown",
   "id": "chinese-dakota",
   "metadata": {},
   "source": [
    "## Tâche 6 : éléments de symétrie du matériau SnGe"
   ]
  },
  {
   "cell_type": "code",
   "execution_count": 73,
   "id": "violent-mouth",
   "metadata": {},
   "outputs": [],
   "source": [
    "from pymatgen.symmetry.analyzer import SpacegroupAnalyzer,PointGroupAnalyzer\n",
    "from jupyter_jsmol.pymatgen import quick_view\n",
    "from pymatgen.ext.matproj import MPRester\n",
    "from pymatgen.io.cif import CifWriter"
   ]
  },
  {
   "cell_type": "code",
   "execution_count": 74,
   "id": "developing-coordination",
   "metadata": {},
   "outputs": [],
   "source": [
    "with MPRester(\"yG2goZSVRMrBL7zx\") as m:\n",
    "    # Structure for material id\n",
    "    structure = m.get_structure_by_material_id(\"mp-995181\")\n",
    "\n",
    "CifWriter(structure,0.1, write_magmoms=False).write_file(\"SnGe_mp-995181_symmetrized.cif\")"
   ]
  },
  {
   "cell_type": "code",
   "execution_count": 75,
   "id": "cathedral-trading",
   "metadata": {},
   "outputs": [
    {
     "data": {
      "application/vnd.jupyter.widget-view+json": {
       "model_id": "0216fbde5dd045f69672814d91e668d0",
       "version_major": 2,
       "version_minor": 0
      },
      "text/plain": [
       "JsmolView(layout=Layout(align_self='stretch', height='400px'))"
      ]
     },
     "metadata": {},
     "output_type": "display_data"
    }
   ],
   "source": [
    "view = quick_view(structure, \"packed\")\n",
    "display(view)"
   ]
  },
  {
   "cell_type": "markdown",
   "id": "surgical-carter",
   "metadata": {},
   "source": [
    "## Atomes"
   ]
  },
  {
   "cell_type": "code",
   "execution_count": 76,
   "id": "thorough-meditation",
   "metadata": {},
   "outputs": [],
   "source": [
    "Sn0 = [0.000000, 0.000000, 0.481921]\n",
    "Sn1 = [1.000000, 1.000000, 0.481920]\n",
    "Ge1 = [0.333333, 0.666667, 0.543079]"
   ]
  },
  {
   "cell_type": "markdown",
   "id": "heavy-spokesman",
   "metadata": {},
   "source": [
    "Remarque: Pour ce qui est des atomes, seuls deux atomes sont présents dans la maille primitive (Sn et Ge). Dans les images générées avec quick_view(), les 4 atomes Sn sont tous équivalents."
   ]
  },
  {
   "cell_type": "markdown",
   "id": "desirable-pollution",
   "metadata": {},
   "source": [
    "## Première symétrie"
   ]
  },
  {
   "cell_type": "markdown",
   "id": "premium-adventure",
   "metadata": {},
   "source": [
    "La matrice de rotation associée à la première opération de symétrie ( -y , x-y , z ) est:\n",
    "$$\\begin{pmatrix} 0 & -1 & 0 \\\\ 1 & -1 & 0 \\\\ 0 & 0 & 1 \\end{pmatrix}$$\n",
    "Il s'agit d'une rotation d'ordre 3 autour de l'axe c [0 0 1]. Comme cette opération est effectuée sur l'atome Sn situé en (0, 0, 0.481921) donc sur l'axe c, l'atome après l'opération est situé au même endroit (voir image ci-dessous)."
   ]
  },
  {
   "cell_type": "code",
   "execution_count": 77,
   "id": "convinced-offense",
   "metadata": {},
   "outputs": [
    {
     "data": {
      "application/vnd.jupyter.widget-view+json": {
       "model_id": "f36a3136047e4f3c92ee894eb438a0e2",
       "version_major": 2,
       "version_minor": 0
      },
      "text/plain": [
       "JsmolView(layout=Layout(align_self='stretch', height='400px'))"
      ]
     },
     "metadata": {},
     "output_type": "display_data"
    }
   ],
   "source": [
    "struct = structure\n",
    "view = quick_view(struct, \"packed\")\n",
    "display(view)\n",
    "view.script(\"draw symop 2 {atomno=1}\")"
   ]
  },
  {
   "cell_type": "markdown",
   "id": "middle-batman",
   "metadata": {},
   "source": [
    "## Deuxième symétrie"
   ]
  },
  {
   "cell_type": "markdown",
   "id": "greenhouse-board",
   "metadata": {},
   "source": [
    "La matrice de rotation associée à la seconde opération de symétrie ( -x+y , y , z ) est:\n",
    "$$\\begin{pmatrix} -1 & 1 & 0 \\\\ 0 & 1 & 0 \\\\ 0 & 0 & 1 \\end{pmatrix}$$\n",
    "Il s'agit d'un plan miroir sur l'axe c perpendiculaire à l'axe a (au plan ac). Cette opération est effectuée sur l'atome Sn situé en (1, 1, 0.481921), l'atome après l'opération est situé en (0, 1, 0.481921) au même endroit de l'autre atome Sn de la maille, équivalent à la position de l'atome Sn situé sur l'axe c dans le plan (voir image ci-dessous)."
   ]
  },
  {
   "cell_type": "code",
   "execution_count": 81,
   "id": "registered-physiology",
   "metadata": {},
   "outputs": [
    {
     "data": {
      "application/vnd.jupyter.widget-view+json": {
       "model_id": "331c077b12bb45fbb004843f26b47e2a",
       "version_major": 2,
       "version_minor": 0
      },
      "text/plain": [
       "JsmolView(layout=Layout(align_self='stretch', height='400px'))"
      ]
     },
     "metadata": {},
     "output_type": "display_data"
    }
   ],
   "source": [
    "view = quick_view(struct, \"packed\")\n",
    "display(view)\n",
    "view.script(\"draw symop 5 {atomno=5}\")"
   ]
  },
  {
   "cell_type": "markdown",
   "id": "joint-training",
   "metadata": {},
   "source": [
    "## Troisième symétrie"
   ]
  },
  {
   "cell_type": "markdown",
   "id": "tough-office",
   "metadata": {},
   "source": [
    "La matrice de rotation associée à la troisième opération de symétrie ( -y , -x , z ) est:\n",
    "$$\\begin{pmatrix} 0 & -1 & 0 \\\\ -1 & 0 & 0 \\\\ 0 & 0 & 1 \\end{pmatrix}$$\n",
    "Il s'agit d'un plan miroir sur l'axe c perpendiculaire à la direction [1 1 0]. Cette opération est effectuée sur l'atome Ge situé en (0.333333, 0.666667, 0.543079), l'atome après l'opération est situé en (-0.666667, -0.333333, 0.543079) ce qui est tout à fait équivalent à sa position de départ (voir image ci-dessous)."
   ]
  },
  {
   "cell_type": "code",
   "execution_count": 80,
   "id": "frequent-hollywood",
   "metadata": {},
   "outputs": [
    {
     "data": {
      "application/vnd.jupyter.widget-view+json": {
       "model_id": "d3277c64daf44061ba08656a69a48789",
       "version_major": 2,
       "version_minor": 0
      },
      "text/plain": [
       "JsmolView(layout=Layout(align_self='stretch', height='400px'))"
      ]
     },
     "metadata": {},
     "output_type": "display_data"
    }
   ],
   "source": [
    "view = quick_view(struct, \"packed\")\n",
    "display(view)\n",
    "view.script(\"draw symop 4 {atomno=2}\")"
   ]
  },
  {
   "cell_type": "code",
   "execution_count": null,
   "id": "employed-barrier",
   "metadata": {},
   "outputs": [],
   "source": []
  }
 ],
 "metadata": {
  "kernelspec": {
   "display_name": "Python 3",
   "language": "python",
   "name": "python3"
  },
  "language_info": {
   "codemirror_mode": {
    "name": "ipython",
    "version": 3
   },
   "file_extension": ".py",
   "mimetype": "text/x-python",
   "name": "python",
   "nbconvert_exporter": "python",
   "pygments_lexer": "ipython3",
   "version": "3.6.8"
  }
 },
 "nbformat": 4,
 "nbformat_minor": 5
}

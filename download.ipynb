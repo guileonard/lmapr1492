{
 "cells": [
  {
   "cell_type": "code",
   "execution_count": 15,
   "id": "olympic-rebecca",
   "metadata": {},
   "outputs": [],
   "source": [
    "from pymatgen import Lattice, Structure, Molecule\n",
    "from pymatgen.symmetry.analyzer import SpacegroupAnalyzer\n",
    "from jupyter_jsmol.pymatgen import quick_view\n",
    "from pymatgen.ext.matproj import MPRester"
   ]
  },
  {
   "cell_type": "code",
   "execution_count": 16,
   "id": "specific-windsor",
   "metadata": {},
   "outputs": [],
   "source": [
    "coords = [[0, 0, 0], [0.75,0.5,0.75]]\n",
    "lattice = Lattice.from_parameters(a=4.364, b=4.364, c=12.586, alpha=90, beta=90, gamma=120)"
   ]
  },
  {
   "cell_type": "code",
   "execution_count": 18,
   "id": "smooth-metro",
   "metadata": {},
   "outputs": [],
   "source": [
    "with MPRester(\"yG2goZSVRMrBL7zx\") as m:\n",
    "\n",
    "    # Structure for material id\n",
    "    structure = m.get_structure_by_material_id(\"mp-995181\")\n",
    "\n",
    "    # Dos for material id\n",
    "    #dos = m.get_dos_by_material_id(\"mp-995181\")\n",
    "\n",
    "    # Bandstructure for material id\n",
    "    bandstructure = m.get_bandstructure_by_material_id(\"mp-995181\")"
   ]
  },
  {
   "cell_type": "code",
   "execution_count": 19,
   "id": "forbidden-registration",
   "metadata": {},
   "outputs": [
    {
     "data": {
      "application/vnd.jupyter.widget-view+json": {
       "model_id": "9d3d0147bc6e4275b242d3176df5c4ef",
       "version_major": 2,
       "version_minor": 0
      },
      "text/plain": [
       "JsmolView(layout=Layout(align_self='stretch', height='400px'))"
      ]
     },
     "metadata": {},
     "output_type": "display_data"
    }
   ],
   "source": [
    "view = quick_view(structure, \"packed\")\n",
    "#view = quick_view(structure, \"packed\", supercell = [2,2,2])\n",
    "display(view)"
   ]
  },
  {
   "cell_type": "code",
   "execution_count": null,
   "id": "strange-upper",
   "metadata": {},
   "outputs": [],
   "source": []
  }
 ],
 "metadata": {
  "kernelspec": {
   "display_name": "Python 3",
   "language": "python",
   "name": "python3"
  },
  "language_info": {
   "codemirror_mode": {
    "name": "ipython",
    "version": 3
   },
   "file_extension": ".py",
   "mimetype": "text/x-python",
   "name": "python",
   "nbconvert_exporter": "python",
   "pygments_lexer": "ipython3",
   "version": "3.6.8"
  }
 },
 "nbformat": 4,
 "nbformat_minor": 5
}

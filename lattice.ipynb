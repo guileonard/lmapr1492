{
 "cells": [
  {
   "cell_type": "code",
   "execution_count": 1,
   "id": "bacterial-mediterranean",
   "metadata": {},
   "outputs": [],
   "source": [
    "from pymatgen import Lattice, Structure, Molecule\n",
    "from pymatgen.symmetry.analyzer import SpacegroupAnalyzer,PointGroupAnalyzer\n",
    "from jupyter_jsmol.pymatgen import quick_view\n",
    "from pymatgen.ext.matproj import MPRester\n",
    "import numpy as np\n",
    "from numpy import pi, dot, transpose"
   ]
  },
  {
   "cell_type": "code",
   "execution_count": 2,
   "id": "sudden-relay",
   "metadata": {},
   "outputs": [],
   "source": [
    "with MPRester(\"yG2goZSVRMrBL7zx\") as m:\n",
    "\n",
    "    # Structure for material id\n",
    "    structure = m.get_structure_by_material_id(\"mp-995181\")\n",
    "\n",
    "    # Bandstructure for material id\n",
    "    bandstructure = m.get_bandstructure_by_material_id(\"mp-995181\")"
   ]
  },
  {
   "cell_type": "code",
   "execution_count": 3,
   "id": "involved-lottery",
   "metadata": {},
   "outputs": [
    {
     "data": {
      "application/vnd.jupyter.widget-view+json": {
       "model_id": "ab76a12f37f74e5d94e17e886e2bbe6d",
       "version_major": 2,
       "version_minor": 0
      },
      "text/plain": [
       "JsmolView(layout=Layout(align_self='stretch', height='400px'))"
      ]
     },
     "metadata": {},
     "output_type": "display_data"
    }
   ],
   "source": [
    "view = quick_view(structure, \"packed\")\n",
    "#view = quick_view(structure, \"packed\", supercell = [2,2,2])\n",
    "display(view)"
   ]
  },
  {
   "cell_type": "code",
   "execution_count": 4,
   "id": "capital-institution",
   "metadata": {},
   "outputs": [
    {
     "name": "stdout",
     "output_type": "stream",
     "text": [
      "a = ( 4.363620197053818 ,0,0)\n",
      "b = (0, 4.363620197053818 ,0)\n",
      "c = (0,0 12.586198 )\n",
      "angles =  (90.0, 90.0, 120.00000298765131)\n",
      "volume =  207.54824464034792\n"
     ]
    }
   ],
   "source": [
    "#Vecteurs de base du réseau direct\n",
    "print(\"a = (\",structure.lattice.a,\",0,0)\")\n",
    "print(\"b = (0,\",structure.lattice.b,\",0)\")\n",
    "print(\"c = (0,0,\",structure.lattice.c,\")\")\n",
    "print(\"angles = \",structure.lattice.angles)\n",
    "print(\"volume = \",structure.lattice.volume)"
   ]
  },
  {
   "cell_type": "code",
   "execution_count": 7,
   "id": "imported-voice",
   "metadata": {},
   "outputs": [
    {
     "name": "stdout",
     "output_type": "stream",
     "text": [
      "a* = ( 1.66265562714581 ,0,0)\n",
      "b* = (0, 1.66265562714581 ,0)\n",
      "c* = (0,0, 0.4992123361780569 )\n",
      "angles =  (90.0, 90.0, 59.99999701234872)\n",
      "volume =  1.1951448390817994\n",
      "#######################\n",
      "a* = ( 1.6626556271458102 ,0,0)\n",
      "b* = (0, 1.6626556271458102 ,0)\n",
      "c* = (0,0, 0.49921233617805677 )\n",
      "angles =  (90.0, 90.0, 60.0)\n"
     ]
    }
   ],
   "source": [
    "#Vecteurs de base du réseau réciproque\n",
    "\n",
    "print(\"a* = (\",structure.lattice.reciprocal_lattice.a,\",0,0)\")\n",
    "print(\"b* = (0,\",structure.lattice.reciprocal_lattice.b,\",0)\")\n",
    "print(\"c* = (0,0,\",structure.lattice.reciprocal_lattice.c,\")\")\n",
    "print(\"angles = \",structure.lattice.reciprocal_lattice.angles)\n",
    "print(\"volume = \",structure.lattice.reciprocal_lattice.volume)\n",
    "\n",
    "#ou\n",
    "print(\"#######################\")\n",
    "\n",
    "astar=(2*pi/structure.lattice.volume)*np.sin(structure.lattice.alpha*pi/180)*structure.lattice.b*structure.lattice.c\n",
    "bstar=(2*pi/structure.lattice.volume)*np.sin(structure.lattice.beta*pi/180)*structure.lattice.a*structure.lattice.c\n",
    "cstar=(2*pi/structure.lattice.volume)*np.sin(structure.lattice.gamma*pi/180)*structure.lattice.b*structure.lattice.a\n",
    "print(\"a* = (\",astar,\",0,0)\")\n",
    "print(\"b* = (0,\",bstar,\",0)\")\n",
    "print(\"c* = (0,0,\",cstar,\")\")\n",
    "anglesreciproque = (90.0,90.0,60.0)\n",
    "print(\"angles = \",anglesreciproque)"
   ]
  },
  {
   "cell_type": "code",
   "execution_count": 54,
   "id": "gross-rating",
   "metadata": {},
   "outputs": [
    {
     "name": "stdout",
     "output_type": "stream",
     "text": [
      "6.283185496338387\n",
      "6.283185496338387\n",
      "6.283185307179585\n"
     ]
    }
   ],
   "source": [
    "#vérification a*a=2pi ok\n",
    "x=np.cos(30*pi/180)*astar*structure.lattice.a\n",
    "print(x)\n",
    "x=np.cos(30*pi/180)*bstar*structure.lattice.b\n",
    "print(x)\n",
    "x=np.cos(0)*cstar*structure.lattice.c\n",
    "print(x)"
   ]
  },
  {
   "cell_type": "code",
   "execution_count": 8,
   "id": "marine-learning",
   "metadata": {},
   "outputs": [
    {
     "name": "stdout",
     "output_type": "stream",
     "text": [
      "P3m1\n",
      "groupe ponctuel:  3m\n",
      "système cristallin:  trigonal\n",
      "type de maille:  hexagonal\n"
     ]
    }
   ],
   "source": [
    "print(SpacegroupAnalyzer(structure).get_space_group_symbol())\n",
    "print(\"groupe ponctuel: \",SpacegroupAnalyzer(structure).get_point_group_symbol())\n",
    "print(\"système cristallin: \",SpacegroupAnalyzer(structure).get_crystal_system())\n",
    "print(\"type de maille: \",SpacegroupAnalyzer(structure).get_lattice_type())"
   ]
  },
  {
   "cell_type": "code",
   "execution_count": null,
   "id": "suspected-briefs",
   "metadata": {},
   "outputs": [],
   "source": []
  }
 ],
 "metadata": {
  "kernelspec": {
   "display_name": "Python 3",
   "language": "python",
   "name": "python3"
  },
  "language_info": {
   "codemirror_mode": {
    "name": "ipython",
    "version": 3
   },
   "file_extension": ".py",
   "mimetype": "text/x-python",
   "name": "python",
   "nbconvert_exporter": "python",
   "pygments_lexer": "ipython3",
   "version": "3.6.8"
  }
 },
 "nbformat": 4,
 "nbformat_minor": 5
}
